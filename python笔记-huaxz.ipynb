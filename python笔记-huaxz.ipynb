{
 "cells": [
  {
   "cell_type": "markdown",
   "metadata": {},
   "source": [
    "# Python笔记@huaxz\n"
   ]
  },
  {
   "cell_type": "code",
   "execution_count": 4,
   "metadata": {
    "collapsed": true
   },
   "outputs": [],
   "source": [
    "import os\n",
    "import sys\n",
    "\n",
    "import numpy as np\n",
    "import pandas as pd"
   ]
  },
  {
   "cell_type": "markdown",
   "metadata": {},
   "source": [
    "## Python的动态类型介绍\n",
    "1. 在Python中没有变量的声明以及变量的类型：\n",
    "    - 变量的类型是在运行过程中自动决定的，而不是通过声明来决定的\n",
    "    - 变量通过首次赋值创建。之后再次赋值会改变该变量的值\n",
    "1. 类型的概念是存在于对象中而不是变量中。变量名是通用的，它只是在特定时刻引用某个特定的对象而已。\n",
    "    - 当变量出现在表达式中时，它会马上被当前引用的对象所代替\n",
    "    - 任何变量名在使用前必须明确地赋值。用未赋值地变量会产生错误。\n",
    "    > 在Python内部，变量实际上是指向对象内存空间的一个指针\n",
    "1. 每个表达式生成的结果，python都创建了一个新的对象去表示这个值。\n",
    "1. Python对象缓存了不变的对象并对其进行复用，如小整数和小字符串。但是逻辑上看，每个表达式的结果值都是不同的对象，占用不同的内存。\n",
    "1. 每个对象都有两个标准的头部信息：\n",
    "    - 类型标志符：标识了该对象的类型\n",
    "    - 引用计数器：决定了是否可以回收这个对象\n",
    "    > 引用计数器记录了当前指向该对象的引用的数目。一旦它为0， 则该对象的内存空间就会自动回收\n",
    "1. 给一个变量赋新值，并不是替换原始的对象，而是让这个变量去引用完全不同的一个对象。\n",
    "1. 多个变量名引用同一个对象时，称为共享引用\n",
    "    - 在共享引用中，对象的原地址修改操作会影响到所有的引用该对象的变量\n",
    "    - 共享引用的多个变量之间，`is`比较的结果为`True`\n",
    "    > `==` 操作符比较的是两个变量引用的对象是否具有相同的值  \n",
    "    > `is` 操作符比较的是两个变量是否引用的是同一个对象\n"
   ]
  },
  {
   "cell_type": "markdown",
   "metadata": {},
   "source": [
    "###### some basic command\n",
    "`dir(x)`查看所指对象的属性"
   ]
  },
  {
   "cell_type": "markdown",
   "metadata": {},
   "source": [
    "## 数字类型\n",
    "1. `random`提供的工具可以生成 0~1 之间的随机浮点数、两个数字之间的任意整数、序列中的任意一项\n",
    "    ```python\n",
    "    random.random()                  # 返回(0, 1)之间的随机浮点数\n",
    "    random.random(0, 10)             # 返回[0, 10]之间的随机整数\n",
    "    random.choice(['a', 1])          # 随机返回列表中某一项\n",
    "    ```\n",
    "1. 浮点数缺乏精确性，因为储存浮点数的空间有限，可以用`decimal`对象解决精度问题。它类似于浮点数，但是有固定的位数和小数点，因此是固定精度的小数。\n",
    "    - 设置全局的精度和舍入模式 `decimal.getcontext().prec = 5`，精度为小数点后5位\n",
    "    - 可以用整数、浮点数、字符串初始化对象\n",
    "    ```python\n",
    "    import decimal\n",
    "    decimal.getcontext().prec = 5    #设置全局精度\n",
    "    decimal.decimal(2)\n",
    "    decimal.decimal(2.0)\n",
    "    decimal.decimal('2.0')\n",
    "    ```\n",
    "1. Python中的布尔类型为`bool`，只有`True`和`False`两个值。\n",
    "    - `True`和`False`是预定义的内置变量名，其在表达式中的行为与整数1和0是一样的。实际上他们就是内置的`int`类型的子类。\n",
    "    - 一个数字如果不是0，则为真。整数和浮点数的0都是假。\n",
    "    - 非数字的对象如果非空，则为真。如空字符串，空字典，空列表，`None`都为假。"
   ]
  },
  {
   "cell_type": "markdown",
   "metadata": {},
   "source": [
    "## Set类型\n",
    "1. 元素值唯一、元素值不可变的无序集\n",
    "1. 本身的性质\n",
    "    - 可迭代对象\n",
    "    - 可以增长或缩短\n",
    "    - 可能包含各种类型的对象作为元素\n",
    "    - 创建`set`对象，调用`x = set(iter)`，其中`iter`为任何序列或可迭代对象\n",
    "1. `set`对象有以下操作：\n",
    "    ```python\n",
    "    e in x           # 成员关系，返回bool值\n",
    "    x - y            # 差集\n",
    "    x | y            # 并集\n",
    "    x & y            # 交集\n",
    "    x ^ y            # 对称差集：并集中去除交集\n",
    "    x > y            # 是否超集，返回bool值\n",
    "    ```\n",
    "1. `set`的方法：\n",
    "    ```python\n",
    "    .add(item)             # 插入，原地修改\n",
    "    .remove(item)          # 删除，原地修改\n",
    "    .update(iter)          # 求并集，原地修改\n",
    "    .intersection(iter)    # 求交集，返回新set对象\n",
    "    ```"
   ]
  },
  {
   "cell_type": "code",
   "execution_count": null,
   "metadata": {
    "collapsed": true
   },
   "outputs": [],
   "source": []
  }
 ],
 "metadata": {
  "kernelspec": {
   "display_name": "Python 3",
   "language": "python",
   "name": "python3"
  },
  "language_info": {
   "codemirror_mode": {
    "name": "ipython",
    "version": 3
   },
   "file_extension": ".py",
   "mimetype": "text/x-python",
   "name": "python",
   "nbconvert_exporter": "python",
   "pygments_lexer": "ipython3",
   "version": "3.6.3"
  }
 },
 "nbformat": 4,
 "nbformat_minor": 2
}
