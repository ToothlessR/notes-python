{
 "cells": [
  {
   "cell_type": "markdown",
   "metadata": {},
   "source": [
    "# Python笔记@huaxz\n"
   ]
  },
  {
   "cell_type": "code",
   "execution_count": 4,
   "metadata": {
    "collapsed": true
   },
   "outputs": [],
   "source": [
    "import os\n",
    "import sys\n",
    "\n",
    "import numpy as np\n",
    "import pandas as pd"
   ]
  },
  {
   "cell_type": "markdown",
   "metadata": {},
   "source": [
    "## Python的动态类型介绍\n",
    "1. 在Python中没有变量的声明以及变量的类型：\n",
    "    - 变量的类型是在运行过程中自动决定的，而不是通过声明来决定的\n",
    "    - 变量通过首次赋值创建。之后再次赋值会改变该变量的值\n",
    "1. 类型的概念是存在于对象中而不是变量中。变量名是通用的，它只是在特定时刻引用某个特定的对象而已。\n",
    "    - 当变量出现在表达式中时，它会马上被当前引用的对象所代替\n",
    "    - 任何变量名在使用前必须明确地赋值。用未赋值地变量会产生错误。\n",
    "    > 在Python内部，变量实际上是指向对象内存空间的一个指针\n",
    "1. 每个表达式生成的结果，python都创建了一个新的对象去表示这个值。\n",
    "1. Python对象缓存了不变的对象并对其进行复用，如小整数和小字符串。但是逻辑上看，每个表达式的结果值都是不同的对象，占用不同的内存。\n",
    "1. 每个对象都有两个标准的头部信息：\n",
    "    - 类型标志符：标识了该对象的类型\n",
    "    - 引用计数器：决定了是否可以回收这个对象\n",
    "    > 引用计数器记录了当前指向该对象的引用的数目。一旦它为0， 则该对象的内存空间就会自动回收\n",
    "1. 给一个变量赋新值，并不是替换原始的对象，而是让这个变量去引用完全不同的一个对象。\n",
    "1. 多个变量名引用同一个对象时，称为共享引用\n",
    "    - 在共享引用中，对象的原地址修改操作会影响到所有的引用该对象的变量\n",
    "    - 共享引用的多个变量之间，`is`比较的结果为`True`\n",
    "    > `==` 操作符比较的是两个变量引用的对象是否具有相同的值  \n",
    "    > `is` 操作符比较的是两个变量是否引用的是同一个对象\n"
   ]
  },
  {
   "cell_type": "markdown",
   "metadata": {},
   "source": [
    "###### some basic command\n",
    "`dir(x)`查看所指对象的属性"
   ]
  },
  {
   "cell_type": "markdown",
   "metadata": {},
   "source": [
    "## 数字类型\n",
    "1. `random`提供的工具可以生成 0~1 之间的随机浮点数、两个数字之间的任意整数、序列中的任意一项\n",
    "    ```python\n",
    "    random.random()                  # 返回(0, 1)之间的随机浮点数\n",
    "    random.random(0, 10)             # 返回[0, 10]之间的随机整数\n",
    "    random.choice(['a', 1])          # 随机返回列表中某一项\n",
    "    ```\n",
    "1. 浮点数缺乏精确性，因为储存浮点数的空间有限，可以用`decimal`对象解决精度问题。它类似于浮点数，但是有固定的位数和小数点，因此是固定精度的小数。\n",
    "    - 设置全局的精度和舍入模式 `decimal.getcontext().prec = 5`，精度为小数点后5位\n",
    "    - 可以用整数、浮点数、字符串初始化对象\n",
    "    ```python\n",
    "    import decimal\n",
    "    decimal.getcontext().prec = 5    #设置全局精度\n",
    "    decimal.decimal(2)\n",
    "    decimal.decimal(2.0)\n",
    "    decimal.decimal('2.0')\n",
    "    ```\n",
    "1. Python中的布尔类型为`bool`，只有`True`和`False`两个值。\n",
    "    - `True`和`False`是预定义的内置变量名，其在表达式中的行为与整数1和0是一样的。实际上他们就是内置的`int`类型的子类。\n",
    "    - 一个数字如果不是0，则为真。整数和浮点数的0都是假。\n",
    "    - 非数字的对象如果非空，则为真。如空字符串，空字典，空列表，`None`都为假。"
   ]
  },
  {
   "cell_type": "markdown",
   "metadata": {},
   "source": [
    "## Set类型\n",
    "1. 元素值唯一、元素值不可变的无序集\n",
    "    - 因为元素不不变，所以list这类不可作为set元素。\n",
    "    - 本质上`set`通过元素值的哈希值来判断唯一性，如果把list类型赋值给set时`set([1,2,[1]])`会报错`unhashable type: 'list'`\n",
    "1. 本身的性质\n",
    "    - 可迭代对象\n",
    "    - 可以增长或缩短\n",
    "    - 可能包含各种类型的对象作为元素\n",
    "    - 创建`set`对象，调用`x = set(iter)`，其中`iter`为任何序列或可迭代对象\n",
    "1. `set`对象有以下操作：\n",
    "    ```python\n",
    "    e in x           # 成员关系，返回bool值\n",
    "    x - y            # 差集\n",
    "    x | y            # 并集\n",
    "    x & y            # 交集\n",
    "    x ^ y            # 对称差集：并集中去除交集\n",
    "    x > y            # 是否超集，返回bool值\n",
    "    ```\n",
    "1. `set`的方法：\n",
    "    ```python\n",
    "    .add(item)             # 插入，原地修改\n",
    "    .remove(item)          # 删除，原地修改\n",
    "    .update(iter)          # 求并集，原地修改\n",
    "    .intersection(iter)    # 求交集，返回新set对象\n",
    "    ```"
   ]
  },
  {
   "cell_type": "markdown",
   "metadata": {
    "collapsed": true
   },
   "source": [
    "## 字符串\n",
    "1. 字符串是不可变序列\n",
    "1. 字符串支持索引\n",
    "1. 字符串支持分片(slicing)和步进，语法为`S[m:n:k]`，返回从`m`开始到`n`（不包括`n`）的一个新字符串，且每隔`k`个元素取一次\n",
    "    - `S[::-1]`返回S的翻转字符串"
   ]
  },
  {
   "cell_type": "markdown",
   "metadata": {},
   "source": [
    "## 列表\n",
    "1. 列表不允许引用超出末尾的索引\n",
    "1. `list(iter_obj)` 通过可迭代对象生成一个新列表\n",
    "1. **如果列表的元素是可变对象，则对该可变对象的修改会影响到列表**\n",
    "    ```python\n",
    "    L = [1, 2]\n",
    "    X = L * 2\n",
    "    Y = [L] * 2\n",
    "    L.pop()   # 原地修改L\n",
    "    # X 仍然为 [1, 2, 1, 2]\n",
    "    # Y 变更为 [[1], [1]] 受到影响\n",
    "    ```\n",
    "\n",
    "1. 列表的方法\n",
    "    ```python\n",
    "    .append(val)                     # 追加元素，原地修改\n",
    "    .sort(key=None, reverse=False)   # 排序，原地修改\n",
    "    .reverse()                       # 翻转，原地修改\n",
    "    .extend(iter_obj)                # 在列表末端插入多个元素，原地修改\n",
    "    .pop(index)                      # 删除制定位置元素并返回该元素，原地修改。默认为末尾元素。\n",
    "    del list[i]                      # 删除指定位置元素，原地修改\n",
    "    del list[i1:i2]                  # 删除制定片段处元素，原地修改\n",
    "    .remove(val)                     # 通过值删除元素，若有多个值，则只删除第一个遇到的值，原地修改。\n",
    "    .insert(index, val)              # 在指定位置插入元素，原地修改\n",
    "    .index(val)                      # 返回指定元素的位置，若有多个值，则只返回第一个遇到的位置\n",
    "    ```\n",
    "1. 列表的内置函数\n",
    "    ```python\n",
    "    sorted(list, key=None, reverse=False) # 返回排序后的新列表，非原地修改\n",
    "    reversed(list)                        # 返回迭代器，该迭代器迭代结果就是列表的逆序（什么是迭代器？）\n",
    "    ```"
   ]
  },
  {
   "cell_type": "markdown",
   "metadata": {
    "collapsed": true
   },
   "source": [
    "## 元组 (tuple)\n"
   ]
  },
  {
   "cell_type": "markdown",
   "metadata": {},
   "source": [
    "## 字典\n",
    "1. 字典是可变对象，它的元素的值的类型不限，它的元素的键类型是不可变类型\n",
    "1. 字典的迭代\n",
    "    - `d.keys()` 返回一个dict_keys对象，迭代时返回键序列\n",
    "    - `d.values()` 返回一个dict_values对象，迭代时返回值序列\n",
    "    - `d.items()` 返回一个dict_items对象，迭代时返回元组（键，值）的序列\n",
    "1. 获取键的值: `d.get(key, default_value)`，若不存在返回`default_value`\n",
    "    > 对比`d[key]`，当key不存在时抛出`KeyError`异常\n",
    "1. 字典的操作\n",
    "    ```python\n",
    "    d1.update(d2)       # 合并两个字典，原地修改 d1 字典\n",
    "    d.pop(key)          # 从字典中删除 key 并返回该元素的值\n",
    "    del d[key]          # 从字典中删除 key 但是不返回该元素的值\n",
    "    d[key] = value      # 原地添加/修改字典\n",
    "    ```"
   ]
  },
  {
   "cell_type": "markdown",
   "metadata": {},
   "source": [
    "## 文件\n",
    "`f = open(path, 'w/r/a')`\n",
    "1. 参数'r'读打开，'w'写打开，'a'追加写打开\n",
    "1. 文件读写\n",
    "    ```python\n",
    "    .read()                # 读取接下来的整个文件\n",
    "    .read(n)               # 读取接下来的n个字节\n",
    "    .readline()            # 读取下一行\n",
    "    .readlines()           # 按行读取接下来的整个文件到字符串列表，每个字符串一行\n",
    "    .write(str)            # 写入字符串到文件\n",
    "    .writeliens(strlist)   # 将字符串列表内所有字符串依次写入文件\n",
    "    .close()               # 关闭\n",
    "    ```\n",
    "1. 文件迭代：文件对象也是一个可迭代对象，每一次迭代返回一行\n",
    "    ```\n",
    "    for line in open('data'):\n",
    "        # use line\n",
    "        pass\n",
    "    ```"
   ]
  },
  {
   "cell_type": "markdown",
   "metadata": {},
   "source": [
    "## 迭代\n",
    "1. `map(func, iter_obj)` 每一次迭代在迭代得到的元素上应用函数`func`\n",
    "1. `enumerate(iter_obj)` 每一次迭代生成一个`(index, value)`元组\n",
    "1. `filter(func, iter_obj)` 迭代结果得到`iter_obj`中部分元素，这些元素使`func()`函数返回为真\n"
   ]
  },
  {
   "cell_type": "markdown",
   "metadata": {},
   "source": [
    "## 参数\n",
    "1. 可变参数\n",
    "    - 以`*`开头，收集任意多的额外位置参数，将收集到的位置相关的参数放到一个新元组中\n",
    "    - 以`**`开头，收集任意多的额外关键字参数，将收集关键字相关的参数到一个新字典中\n",
    "1. 可变参数解包\n",
    "    - 用`*`将实参（如元组，列表，集合）打散，形成位置参数\n",
    "    - 用`**`将字典实参打散，形成关键字参数\n",
    "# todo"
   ]
  },
  {
   "cell_type": "code",
   "execution_count": 8,
   "metadata": {},
   "outputs": [
    {
     "name": "stdout",
     "output_type": "stream",
     "text": [
      "(1, 2, 3, 4)\n"
     ]
    }
   ],
   "source": [
    "def f(*args):\n",
    "    print(args)\n",
    "\n",
    "f(1, 2, 3, 4)"
   ]
  },
  {
   "cell_type": "code",
   "execution_count": 11,
   "metadata": {},
   "outputs": [
    {
     "name": "stdout",
     "output_type": "stream",
     "text": [
      "{'a': 1, 'b': 2}\n"
     ]
    }
   ],
   "source": [
    "def g(**args):\n",
    "    print(args)\n",
    "\n",
    "g(a=1, b=2)"
   ]
  },
  {
   "cell_type": "code",
   "execution_count": 1,
   "metadata": {},
   "outputs": [
    {
     "name": "stdout",
     "output_type": "stream",
     "text": [
      "1 2 3 4\n",
      "4 3 2 1\n"
     ]
    }
   ],
   "source": [
    "def f(a, b, c, d):\n",
    "    print(a, b, c, d)\n",
    "f(*[1, 2, 3, 4])\n",
    "f(**{'d':1, 'c':2, 'b':3, 'a':4})"
   ]
  },
  {
   "cell_type": "markdown",
   "metadata": {},
   "source": [
    "## 模块 (module)\n",
    "1. 模块可以直接使用被导模块定义的全局变量名\n"
   ]
  },
  {
   "cell_type": "code",
   "execution_count": null,
   "metadata": {
    "collapsed": true
   },
   "outputs": [],
   "source": []
  }
 ],
 "metadata": {
  "kernelspec": {
   "display_name": "Python 3",
   "language": "python",
   "name": "python3"
  },
  "language_info": {
   "codemirror_mode": {
    "name": "ipython",
    "version": 3
   },
   "file_extension": ".py",
   "mimetype": "text/x-python",
   "name": "python",
   "nbconvert_exporter": "python",
   "pygments_lexer": "ipython3",
   "version": "3.6.3"
  }
 },
 "nbformat": 4,
 "nbformat_minor": 2
}
