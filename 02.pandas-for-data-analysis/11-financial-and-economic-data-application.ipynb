{
 "cells": [
  {
   "cell_type": "markdown",
   "metadata": {},
   "source": [
    "# Chap11. Financial and Economic Data Applications\n",
    "\n",
    "## Data Munging Topics\n",
    "### Time Series and Cross-Section Alignment\n",
    "### Operations with Time Series of Different Frequencies\n",
    "### Time of Day and \"as of\" Data Selection\n",
    "### Slicing Together Data Sources\n",
    "### Return Indexes and Cumulative Returns\n",
    "\n",
    "## Group Transformas and Analysis\n",
    "### Group Factors Exposures\n",
    "### Decile and Quartile Analysis\n",
    "\n",
    "## More Example Applications\n",
    "### Signal Frontier Analysis\n",
    "### Future Contract Rolling\n",
    "### Rolling Correlation and Linear Regression\n",
    "\n"
   ]
  }
 ],
 "metadata": {
  "kernelspec": {
   "display_name": "Python 3",
   "language": "python",
   "name": "python3"
  },
  "language_info": {
   "codemirror_mode": {
    "name": "ipython",
    "version": 3
   },
   "file_extension": ".py",
   "mimetype": "text/x-python",
   "name": "python",
   "nbconvert_exporter": "python",
   "pygments_lexer": "ipython3",
   "version": "3.6.3"
  }
 },
 "nbformat": 4,
 "nbformat_minor": 2
}
