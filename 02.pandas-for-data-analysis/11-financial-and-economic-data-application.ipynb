{
 "cells": [
  {
   "cell_type": "markdown",
   "metadata": {},
   "source": [
    "# Chap11. Financial and Economic Data Applications\n",
    "## Data Munging Topics\n",
    "## Group Transformas and Analysis\n",
    "## More Example Applications\n",
    "## Advanced ufunc Usage\n",
    "## Structured and Record Arrays\n",
    "## More About Sorting\n",
    "## Numpy Matrix Class\n",
    "## Advanced Array Input and Output\n",
    "## Performance Tips"
   ]
  }
 ],
 "metadata": {
  "kernelspec": {
   "display_name": "Python 3",
   "language": "python",
   "name": "python3"
  },
  "language_info": {
   "codemirror_mode": {
    "name": "ipython",
    "version": 3
   },
   "file_extension": ".py",
   "mimetype": "text/x-python",
   "name": "python",
   "nbconvert_exporter": "python",
   "pygments_lexer": "ipython3",
   "version": "3.6.2"
  }
 },
 "nbformat": 4,
 "nbformat_minor": 2
}
