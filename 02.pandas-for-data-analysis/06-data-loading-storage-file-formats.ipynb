{
 "cells": [
  {
   "cell_type": "markdown",
   "metadata": {},
   "source": [
    "# Chap6. Data Loading, Storage, and File Formats\n",
    "\n",
    "## Reading and Writing Data in Text Format\n",
    "`read_csv`/`read_table`函数的参数\n",
    "\n",
    "Parameters       | Descriptions\n",
    ":---             | :---\n",
    "path             |\n",
    "sep/delimiter    | 进行拆分的字符序列或正则表达式\n",
    "header           | 默认为0，如果没有应设置为`None`\n",
    "index_col        | 名称或数字，可以用列表来层次化\n",
    "names            | 结合`header=None`\n",
    "skiprows         | 跳过的行\n",
    "na_values        | 一组用于替换NA的值，可以用你dict来对每列区别\n",
    "comment          | 用于将注释信息从行尾拆分出去的字符（一个或多个）\n",
    "parse_dates      | 默认为False，如果设置为True，会尝试解析所有列。如果列表或元组，会将多个列组合到一起再进行日期解析。\n",
    "keep_date_col    | 如果裂解多列解析日期，则保持参与连接的列。默认为False\n",
    "converters       | 由列号/列名跟函数之间的映射关系组成的字典。例如`{'foo': f}`会对foo列的所有值应用函数f\n",
    "dayfirst         | 当解析有歧义的日期时，将其看做国际格式。默认为False\n",
    "date_parser      | 用于解析日期的函数\n",
    "nrows            | 需要读取的行数\n",
    "iterator         | 返回一个TextParser以便逐块读取文件\n",
    "chunksize        | 文件块的大小（用于迭代）\n",
    "skip_footer      | 需要忽略的行数（从文件末尾处算起）\n",
    "verbose          |\n",
    "encoding         | \"uft-8\"\n",
    "squeeze          | 如果数据经解析后仅含一列，则返回Series\n",
    "thousands        | 千位符\n",
    "\n",
    "### Reading Text Files in Pieces\n",
    "### Writing Data Out to Text Format\n",
    "### Manually Working with Delimited Formats\n",
    "### JSON Data\n",
    "### XML and HTML: Web Scraping\n",
    "\n"
   ]
  },
  {
   "cell_type": "markdown",
   "metadata": {
    "collapsed": true
   },
   "source": [
    "## Binary Data Formats\n",
    "### Using HDF5 Format\n",
    "HDF = Hierarchical Data Format\n",
    "\n",
    "Python中的HDF5库有两个接口（PyTables和h5py），它们各自采用了不同的问题解决方式。h5py提供了一种直接而高级的HDF5 API访问接口，而PyTables则抽象了HDF5的许多细节以提供多种灵活的数据容器、表索引、查询功能以及对核外计算技术(out-of-core computation)的某些支持。\n",
    "\n",
    "Pandas有一个最小化的类似于字典的`HDFStore`类，它通过PyTables存储pandas对象。\n",
    "\n",
    "**Note: HDF5不是数据库。最适合用作“一次写多次读”的数据集。\n",
    "\n",
    "### Reading Microsoft Excel Files\n",
    "\n",
    "## Interacting with HTML and Web APIs\n",
    "\n",
    "## Interacting with Databases\n",
    "### Storing and Loading Data in MongoDB"
   ]
  },
  {
   "cell_type": "code",
   "execution_count": null,
   "metadata": {
    "collapsed": true
   },
   "outputs": [],
   "source": []
  }
 ],
 "metadata": {
  "kernelspec": {
   "display_name": "Python 3",
   "language": "python",
   "name": "python3"
  },
  "language_info": {
   "codemirror_mode": {
    "name": "ipython",
    "version": 3
   },
   "file_extension": ".py",
   "mimetype": "text/x-python",
   "name": "python",
   "nbconvert_exporter": "python",
   "pygments_lexer": "ipython3",
   "version": "3.6.3"
  }
 },
 "nbformat": 4,
 "nbformat_minor": 2
}
