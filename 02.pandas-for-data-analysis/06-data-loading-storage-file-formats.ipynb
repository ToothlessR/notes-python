{
 "cells": [
  {
   "cell_type": "markdown",
   "metadata": {},
   "source": [
    "# Chap6. Data Loading, Storage, and File Formats\n",
    "\n",
    "## Reading and Writing Data in Text Format\n",
    "### Reading and Writing Data in Text Format\n",
    "### Writing Data Out to Text Format\n",
    "### Manually Working with Delimited Formats\n",
    "### JSON Data\n",
    "### XML and HTML: Web Scraping\n",
    "\n",
    "## Binary Data Formats\n",
    "### Using HDF5 Format\n",
    "### Reading Microsoft Excel Files\n",
    "\n",
    "## Interacting with HTML and Web APIs\n",
    "\n",
    "## Interacting with Databases\n",
    "### Storing and Loading Data in MongoDB"
   ]
  },
  {
   "cell_type": "code",
   "execution_count": null,
   "metadata": {
    "collapsed": true
   },
   "outputs": [],
   "source": []
  }
 ],
 "metadata": {
  "kernelspec": {
   "display_name": "Python 3",
   "language": "python",
   "name": "python3"
  },
  "language_info": {
   "codemirror_mode": {
    "name": "ipython",
    "version": 3
   },
   "file_extension": ".py",
   "mimetype": "text/x-python",
   "name": "python",
   "nbconvert_exporter": "python",
   "pygments_lexer": "ipython3",
   "version": "3.6.3"
  }
 },
 "nbformat": 4,
 "nbformat_minor": 2
}
