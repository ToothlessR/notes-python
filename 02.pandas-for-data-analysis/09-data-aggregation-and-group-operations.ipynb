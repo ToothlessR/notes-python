{
 "cells": [
  {
   "cell_type": "markdown",
   "metadata": {},
   "source": [
    "# Chap9. Data Aggregation and Group Operations\n",
    "\n",
    "## GroupBy Mechanics\n",
    "### Iterating Over Groups\n",
    "### Selecting a Column or Subsets of Columns\n",
    "### Grouping with Dicts and Series\n",
    "### Grouping with Functions\n",
    "### Grouping by Index Levels\n",
    "\n",
    "## Data Aggregation\n",
    "### Column-wise and Multiple Function Application\n",
    "### Returing Aggregated Data in \"unindexed\" Form\n",
    "\n",
    "## Group-wise Operations and Transformations\n",
    "### Apply: General split-apply-combine\n",
    "### Quantile and Bucket Analysis\n",
    "### Example: Filling Missing Values with Group-specific Values\n",
    "### Example: Ranodm Sampling and Permutation\n",
    "### Example: Group Weighted Average and Correlation\n",
    "### Example: Group-wise Linear Regression\n",
    "\n",
    "## Pivot Tables and Cross-Tabulation\n",
    "### Cross-Tabulations: Crosstab\n",
    "\n",
    "## Exampl: 2012 Federal Election Commission Database\n",
    "### Donation Statistics by Occupation and Employer\n",
    "### Bucketing Donation Amounts\n",
    "### Donation Statistics by State"
   ]
  }
 ],
 "metadata": {
  "kernelspec": {
   "display_name": "Python 3",
   "language": "python",
   "name": "python3"
  },
  "language_info": {
   "codemirror_mode": {
    "name": "ipython",
    "version": 3
   },
   "file_extension": ".py",
   "mimetype": "text/x-python",
   "name": "python",
   "nbconvert_exporter": "python",
   "pygments_lexer": "ipython3",
   "version": "3.6.3"
  }
 },
 "nbformat": 4,
 "nbformat_minor": 2
}
