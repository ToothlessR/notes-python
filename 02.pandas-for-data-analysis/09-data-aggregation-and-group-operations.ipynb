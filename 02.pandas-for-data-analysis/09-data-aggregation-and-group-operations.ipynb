{
 "cells": [
  {
   "cell_type": "markdown",
   "metadata": {},
   "source": [
    "# Chap9. Data Aggregation and Group Operations\n",
    "## GroupBy Mechanics\n",
    "## Data Aggregation\n",
    "## Group-wise Operations and Transformations\n",
    "## Pivot Tables and Cross-Tabulation\n",
    "## Exampl: 2012 Federal Election Commission Database"
   ]
  }
 ],
 "metadata": {
  "kernelspec": {
   "display_name": "Python 3",
   "language": "python",
   "name": "python3"
  },
  "language_info": {
   "codemirror_mode": {
    "name": "ipython",
    "version": 3
   },
   "file_extension": ".py",
   "mimetype": "text/x-python",
   "name": "python",
   "nbconvert_exporter": "python",
   "pygments_lexer": "ipython3",
   "version": "3.6.2"
  }
 },
 "nbformat": 4,
 "nbformat_minor": 2
}
