{
 "cells": [
  {
   "cell_type": "markdown",
   "metadata": {},
   "source": [
    "# Chap10. Time Series\n",
    "## Date and Timem Data Types and Tools\n",
    "## Time Series Basics\n",
    "## Date Ranges, Frequencies, and Shifting\n",
    "## Timem Zone Handling\n",
    "## Periods and Period Arithmetic\n",
    "## Resampling and Frequency Conversion\n",
    "## Time Series Plotting\n",
    "## Moving Window Functions\n",
    "## Performance and Memory Usage Notes"
   ]
  }
 ],
 "metadata": {
  "kernelspec": {
   "display_name": "Python 3",
   "language": "python",
   "name": "python3"
  },
  "language_info": {
   "codemirror_mode": {
    "name": "ipython",
    "version": 3
   },
   "file_extension": ".py",
   "mimetype": "text/x-python",
   "name": "python",
   "nbconvert_exporter": "python",
   "pygments_lexer": "ipython3",
   "version": "3.6.2"
  }
 },
 "nbformat": 4,
 "nbformat_minor": 2
}
