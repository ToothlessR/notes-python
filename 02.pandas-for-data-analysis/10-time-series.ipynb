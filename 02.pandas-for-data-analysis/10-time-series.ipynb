{
 "cells": [
  {
   "cell_type": "markdown",
   "metadata": {},
   "source": [
    "# Chap10. Time Series\n",
    "\n",
    "## Date and Timem Data Types and Tools\n",
    "### Coverting between string and datetime\n",
    "\n",
    "## Time Series Basics\n",
    "### Indexing, Selection, Subsetting\n",
    "### Time Series with Duplicate Indices\n",
    "\n",
    "## Date Ranges, Frequencies, and Shifting\n",
    "### Generating Date Ranges\n",
    "### Frequencies and Date Offsets\n",
    "### Shifting (leading and Lagging) Data\n",
    "\n",
    "## Timem Zone Handling\n",
    "### Localization and Conversion\n",
    "### Operations with Time Zone-aware Timestamp Objects\n",
    "### Operations between Different Time Zones\n",
    "\n",
    "## Periods and Period Arithmetic\n",
    "### Period Frequency Conversion\n",
    "### Quarterly Period Frequencies\n",
    "### Creating a PeriodIndex from Arrays\n",
    "\n",
    "## Resampling and Frequency Conversion\n",
    "### Downsampling\n",
    "### Upsampling and Interpolation\n",
    "### Resampling with Periods\n",
    "\n",
    "## Time Series Plotting\n",
    "\n",
    "## Moving Window Functions\n",
    "### Exponentially-weighted functions\n",
    "### Binary Moving Window Functions\n",
    "### User-Defined Moving Window Functions\n",
    "\n",
    "## Performance and Memory Usage Notes"
   ]
  }
 ],
 "metadata": {
  "kernelspec": {
   "display_name": "Python 3",
   "language": "python",
   "name": "python3"
  },
  "language_info": {
   "codemirror_mode": {
    "name": "ipython",
    "version": 3
   },
   "file_extension": ".py",
   "mimetype": "text/x-python",
   "name": "python",
   "nbconvert_exporter": "python",
   "pygments_lexer": "ipython3",
   "version": "3.6.3"
  }
 },
 "nbformat": 4,
 "nbformat_minor": 2
}
