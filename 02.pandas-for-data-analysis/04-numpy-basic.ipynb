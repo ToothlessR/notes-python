{
 "cells": [
  {
   "cell_type": "code",
   "execution_count": 2,
   "metadata": {
    "collapsed": true
   },
   "outputs": [],
   "source": [
    "# libraries\n",
    "import numpy as np\n",
    "import pandas as pd\n",
    "from pandas import Series, DataFrame\n",
    "import matplotlib.pyplot as plt\n",
    "\n",
    "# options\n",
    "pd.options.display.max_rows = 11"
   ]
  },
  {
   "cell_type": "markdown",
   "metadata": {},
   "source": [
    "# Chap4. NumPy Basic: Arrays and Vectorized Computation"
   ]
  },
  {
   "cell_type": "markdown",
   "metadata": {},
   "source": [
    "## ndarray: n-dimentional array\n",
    "`ndarray`是一种多维数组对象。  \n",
    "每个数组都有一个`shape`和`dtype`属性。除非特殊说明，`np.array`会寻找合适的data type。\n",
    "\n",
    "### Creating\n",
    "Function            | Description \n",
    "---                 | ---\n",
    "array               | accepts any sequence-like object (including other arrays)\n",
    "asarray             | np.ndarray as input?\n",
    "arange              | `arange(-5,5,0.1)`\n",
    "ones, ones_like     |\n",
    "zeroes, zeroes_like |\n",
    "eye, identity       | N\\*N identity matrix\n",
    "\n",
    "***Notes***\n",
    "- `np.array` tries to infer a good data type for the array that it creats."
   ]
  },
  {
   "cell_type": "code",
   "execution_count": 3,
   "metadata": {
    "collapsed": true
   },
   "outputs": [],
   "source": [
    "# from a list\n",
    "data1 = [6, 7.5, 8, 0, 1]\n",
    "arr1 = np.array(data1)\n",
    "# from nested sequence\n",
    "data2 = [[1, 2, 3, 4], [5, 6, 7, 8]]\n",
    "arr2 = np.array(data2)\n",
    "# type = np.ndarray"
   ]
  },
  {
   "cell_type": "markdown",
   "metadata": {},
   "source": [
    "### Data Types for ndarrays\n",
    "The numerical dtypes are names the same way as C or Fortan: a type name, like `float` or `int`, followed by a number indicating the number of bits per element.\n",
    "\n",
    "类型             | 类型码  | 描述                                      \n",
    "---              | ---     | ---\n",
    "int8, uint8      | i1, u1  | 有符号和无符号8位（1字节）整数类型        \n",
    "int16, uint16    | i2, u2  | 有符号和无符号16位整数类型                \n",
    "int32, uint32    | i4, u4  | 有符号和无符号32位整数类型                \n",
    "int64, uint64    | i8, u8  | 有符号和无符号64位整数类型                \n",
    "float16          | f2      | 半精度浮点类型                            \n",
    "float32          | f4 or f | 标准精度浮点。与C的 `float` 兼容        \n",
    "float64, float128| f8 or d | 标准双精度浮点。与C的 `double` 和Python 的 `float` 对象兼容              \n",
    "float128         | f16 or g|  扩展精度浮点                             \n",
    "complex64, complex128, complex256       | c8, c16, c32 | 分别使用两个32，64，128位浮点表示的复数 \n",
    "bool             | ?       |  布尔值，存储 `True` 和 `False`       \n",
    "object           | O       |  Python对象类型                           \n",
    "string\\_         | S       |  定长字符窜类型（每字符一字节）。例如，为了生成长度为10的字符窜，使用 'S10'     \n",
    "unicode\\_        | f16 or g|  扩展精度浮点（字节书依赖平台）。同 `string_` 有相同的语义规范（例如：`U10` ）\n",
    "\n",
    "***Note***\n",
    "- `astype` converte strings to numeric form"
   ]
  },
  {
   "cell_type": "code",
   "execution_count": 7,
   "metadata": {
    "scrolled": true
   },
   "outputs": [
    {
     "data": {
      "text/plain": [
       "dtype('S4')"
      ]
     },
     "execution_count": 7,
     "metadata": {},
     "output_type": "execute_result"
    }
   ],
   "source": [
    "numeric_string = np.array(['1.25', '-9.6', '42'], dtype=np.string_)\n",
    "numeric_string.dtype"
   ]
  },
  {
   "cell_type": "code",
   "execution_count": 8,
   "metadata": {},
   "outputs": [
    {
     "data": {
      "text/plain": [
       "array(['1.25'],\n",
       "      dtype='<U4')"
      ]
     },
     "execution_count": 8,
     "metadata": {},
     "output_type": "execute_result"
    }
   ],
   "source": [
    "np.array(['1.25'])"
   ]
  },
  {
   "cell_type": "code",
   "execution_count": 12,
   "metadata": {},
   "outputs": [
    {
     "name": "stdout",
     "output_type": "stream",
     "text": [
      "int32\n",
      "float64\n"
     ]
    }
   ],
   "source": [
    "# astype example\n",
    "# 用 astype 把一个数组的dtype转换或投射到另外的类型\n",
    "arr = np.array([1, 2, 3])\n",
    "print(arr.dtype)\n",
    "print(arr.astype(np.float64).dtype)"
   ]
  },
  {
   "cell_type": "markdown",
   "metadata": {},
   "source": [
    "### Operations between Arrays and Scalars\n",
    "Arrays are important because they enable you to expres **batch** operations on data without writing any `for` loops. This is usually called ***vectorization（矢量化）***.\n",
    "\n",
    "Operations between differntly sized arrays is called ***broadcasting（广播）*** and will be discussed in more detail in Chapter 12."
   ]
  },
  {
   "cell_type": "markdown",
   "metadata": {},
   "source": [
    "### Basic Indexing and Slicing\n",
    "\n",
    "One-dimensional arrays are simple; on the surface they act similarly to Python lists.\n",
    "\n",
    "Array slices are *views* on the original array. This means that the data is not copied, and any modifications to the view will be reflected in the source array.\n",
    "\n",
    "For higher dimensional arrays, two ways:\n",
    "- `arr[0][2]`\n",
    "- `arr[0, 2]`"
   ]
  },
  {
   "cell_type": "markdown",
   "metadata": {},
   "source": [
    "### Boolean Indexing\n",
    "\n",
    "Selecting data from an array by boolean indexing always creates a copy of the data, even if the returned array is unchanged."
   ]
  },
  {
   "cell_type": "markdown",
   "metadata": {},
   "source": [
    "### Fancy Indexing\n",
    "\n",
    "***Fancy indexing*** is a term adopted by NumPy to describe indexing using integer arrays.\n",
    "\n",
    "To select out a subset of the rows in a particular order, you can simply pass a list or ndarray of integers specifying the desired order.\n",
    "\n",
    "Fancy indexing, unlike slicing, always copies the data into a new array."
   ]
  },
  {
   "cell_type": "code",
   "execution_count": 4,
   "metadata": {},
   "outputs": [
    {
     "data": {
      "text/plain": [
       "array([[ 4.,  4.,  4.,  4.],\n",
       "       [ 3.,  3.,  3.,  3.],\n",
       "       [ 0.,  0.,  0.,  0.],\n",
       "       [ 6.,  6.,  6.,  6.]])"
      ]
     },
     "execution_count": 4,
     "metadata": {},
     "output_type": "execute_result"
    }
   ],
   "source": [
    "arr = np.empty((8, 4))\n",
    "for i in range(8):\n",
    "    arr[i] = i\n",
    "arr[[4, 3, 0, 6]]"
   ]
  },
  {
   "cell_type": "code",
   "execution_count": 5,
   "metadata": {},
   "outputs": [
    {
     "data": {
      "text/plain": [
       "array([ 4, 23, 29, 10])"
      ]
     },
     "execution_count": 5,
     "metadata": {},
     "output_type": "execute_result"
    }
   ],
   "source": [
    "arr = np.arange(32).reshape((8, 4))\n",
    "arr[[1, 5, 7, 2], [0, 3, 1, 2]]"
   ]
  },
  {
   "cell_type": "code",
   "execution_count": 8,
   "metadata": {},
   "outputs": [
    {
     "name": "stdout",
     "output_type": "stream",
     "text": [
      "[[ 4  7  5  6]\n",
      " [20 23 21 22]\n",
      " [28 31 29 30]\n",
      " [ 8 11  9 10]]\n",
      "[[ 4  7  5  6]\n",
      " [20 23 21 22]\n",
      " [28 31 29 30]\n",
      " [ 8 11  9 10]]\n"
     ]
    }
   ],
   "source": [
    "# to get the rectangular regions formed by selecing a subset of the matrix's rows and columns\n",
    "print(arr[[1, 5, 7, 2]][:, [0, 3, 1, 2]])\n",
    "print(arr[np.ix_([1, 5, 7, 2], [0, 3, 1, 2])])"
   ]
  },
  {
   "cell_type": "markdown",
   "metadata": {},
   "source": [
    "### Tranposing Arrays and Swapping Axes\n",
    "\n",
    "Transposing is a special form of reshaping which similarly returns a view on the underlying data without copying anything. Arrays have the transpose method and also the special `T` attribute."
   ]
  },
  {
   "cell_type": "markdown",
   "metadata": {},
   "source": [
    "## Universal Functions: Fast Element-wise Array Functions\n",
    "\n",
    "A universal function, or `ufunc`, is a function that performs elementwise operations on data in ndarrays.\n",
    "\n",
    "Unary `ufuncs`\n",
    "\n",
    "Functions            | Description\n",
    "---                  | ---\n",
    "abs, fabs            | 计算基于元素的整形，浮点或复数的绝对值。fabs对于没有复数数据的快速版本\n",
    "sqrt                 | 计算每个元素的平方根。等价于 `arr ** 0.5`\n",
    "square               | 计算每个元素的平方。等价于 `arr ** 2`\n",
    "exp                  | 计算每个元素的指数。\n",
    "log, log10, log2, log1p | 自然对数（基于e），基于10的对数，基于2的对数和 `log(1 + x)`\n",
    "sign                 | 计算每个元素的符号：1(positive)，0(zero)， -1(negative)\n",
    "ceil                 | 计算每个元素的天花板，即大于或等于每个元素的最小值\n",
    "floor                | 计算每个元素的地板，即小于或等于每个元素的最大值\n",
    "rint                 | 圆整每个元素到最近的整数，保留dtype\n",
    "modf                 | 分别返回分数和整数部分的数组\n",
    "isnan                | 返回布尔数组标识哪些元素是 `NaN` （不是一个数）\n",
    "isfinite, isinf      | 分别返回布尔数组标识哪些元素是有限的（non-inf, non-NaN）或无限的\n",
    "cos, cosh, sin sinh, tan, tanh  | regular 和 hyperbolic 三角函数\n",
    "arccos, arccosh, arcsin, arcsinh, arctan, arctanh | 反三角函数\n",
    "logical_not          | 计算基于元素的非x的真值。等价于 `-arr`\n",
    "\n",
    "Binary `ufuncs`\n",
    "\n",
    "Functions                     | Description\n",
    "---                           | ---\n",
    "add                           | 在数组中添加相应的元素\n",
    "substract                     | 在第一个数组中减去第二个数组\n",
    "multiply                      | 对数组元素相乘\n",
    "divide, floor_divide          | 除和地板除（去掉余数）\n",
    "power                         | 使用第二个数组作为指数提升第一个数组中的元素\n",
    "maximum, fmax                 | 基于元素的最大值。 `fmax` 忽略 `NaN`\n",
    "minimum, fmin                 | 基于元素的最小值。 `fmin` 忽略 `NaN`\n",
    "mod                           | 基于元素的模（取余）                 \n",
    "copysign                      | 拷贝第二个参数的符号到第一个参数\n",
    "greater, greater_equal, less, less_equal, not_equal | 基于元素的比较，产生布尔数组。等价于中缀操作符 `>, >=, <, <=, ==, !=`\n",
    "logical_and, logical_or, logical_xor | 计算各个元素逻辑操作的真值。等价于中缀操作符 &, &#x7c;, ^"
   ]
  },
  {
   "cell_type": "markdown",
   "metadata": {
    "collapsed": true
   },
   "source": [
    "## Data Processing Using Arrays\n",
    "### Expressing Conditional Logic as Array Operations\n",
    "### Mathematical and Statistical Methods\n",
    "### Methods for Boolean Arrays\n",
    "### Sorting\n",
    "### Unique and Other Set Logic\n"
   ]
  },
  {
   "cell_type": "markdown",
   "metadata": {},
   "source": [
    "## File Input and Output with Arrays\n",
    "### Stroing Arrays on Disk in Binary Format\n",
    "### Saving and Loading Text Files\n"
   ]
  },
  {
   "cell_type": "markdown",
   "metadata": {},
   "source": [
    "## Linear Algebra\n"
   ]
  },
  {
   "cell_type": "markdown",
   "metadata": {},
   "source": [
    "## Random Number Generation\n"
   ]
  },
  {
   "cell_type": "markdown",
   "metadata": {},
   "source": [
    "## Example: Random Walks"
   ]
  }
 ],
 "metadata": {
  "kernelspec": {
   "display_name": "Python 3",
   "language": "python",
   "name": "python3"
  },
  "language_info": {
   "codemirror_mode": {
    "name": "ipython",
    "version": 3
   },
   "file_extension": ".py",
   "mimetype": "text/x-python",
   "name": "python",
   "nbconvert_exporter": "python",
   "pygments_lexer": "ipython3",
   "version": "3.6.2"
  }
 },
 "nbformat": 4,
 "nbformat_minor": 2
}
