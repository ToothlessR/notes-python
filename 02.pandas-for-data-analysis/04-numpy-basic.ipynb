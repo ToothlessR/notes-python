{
 "cells": [
  {
   "cell_type": "markdown",
   "metadata": {},
   "source": [
    "# Pandas for Data Analysis\n",
    "\n",
    "官方网页 http://pandas-docs.github.io/pandas-docs-travis/  \n",
    "参考书籍：Python for Data Analysis 《利用Python进行数据分析》"
   ]
  },
  {
   "cell_type": "code",
   "execution_count": 1,
   "metadata": {
    "collapsed": true
   },
   "outputs": [],
   "source": [
    "# libraries\n",
    "import numpy as np\n",
    "import pandas as pd\n",
    "from pandas import Series, DataFrame\n",
    "import matplotlib.pyplot as plt\n",
    "\n",
    "# options\n",
    "pd.options.display.max_rows = 11"
   ]
  },
  {
   "cell_type": "markdown",
   "metadata": {},
   "source": [
    "# Chap4. NumPy Basic: Arrays and Vectorized Computation"
   ]
  },
  {
   "cell_type": "markdown",
   "metadata": {},
   "source": [
    "## ndarray: n-dimentional array\n",
    "`ndarray`是一种多维数组对象。  \n",
    "每个数组都有一个`shape`和`dtype`属性。除非特殊说明，`np.array`会寻找合适的data type。\n",
    "\n",
    "### Creating\n",
    "Function            | Description \n",
    "---                 | ---\n",
    "array               | accepts any sequence-like object (including other arrays)\n",
    "asarray             | np.ndarray as input?\n",
    "arange              | `arange(-5,5,0.1)`\n",
    "ones, ones_like     |\n",
    "zeroes, zeroes_like |\n",
    "eye, identity       | N\\*N identity matrix\n",
    "\n",
    "***Notes***\n",
    "- `np.array` tries to infer a good data type for the array that it creats."
   ]
  },
  {
   "cell_type": "code",
   "execution_count": 3,
   "metadata": {
    "collapsed": true
   },
   "outputs": [],
   "source": [
    "# from a list\n",
    "data1 = [6, 7.5, 8, 0, 1]\n",
    "arr1 = np.array(data1)\n",
    "# from nested sequence\n",
    "data2 = [[1, 2, 3, 4], [5, 6, 7, 8]]\n",
    "arr2 = np.array(data2)\n",
    "# type = np.ndarray"
   ]
  },
  {
   "cell_type": "markdown",
   "metadata": {},
   "source": [
    "### Data Types for ndarrays\n",
    "The numerical dtypes are names the same way as C or Fortan: a type name, like `float` or `int`, followed by a number indicating the number of bits per element.\n",
    "\n",
    "类型             | 类型码  | 描述                                      \n",
    "---              | ---     | ---\n",
    "int8, uint8      | i1, u1  | 有符号和无符号8位（1字节）整数类型        \n",
    "int16, uint16    | i2, u2  | 有符号和无符号16位整数类型                \n",
    "int32, uint32    | i4, u4  | 有符号和无符号32位整数类型                \n",
    "int64, uint64    | i8, u8  | 有符号和无符号64位整数类型                \n",
    "float16          | f2      | 半精度浮点类型                            \n",
    "float32          | f4 or f | 标准精度浮点。与C的 `float` 兼容        \n",
    "float64, float128| f8 or d | 标准双精度浮点。与C的 `double` 和Python 的 `float` 对象兼容              \n",
    "float128         | f16 or g|  扩展精度浮点                             \n",
    "complex64, complex128, complex256       | c8, c16, c32 | 分别使用两个32，64，128位浮点表示的复数 \n",
    "bool             | ?       |  布尔值，存储 `True` 和 `False`       \n",
    "object           | O       |  Python对象类型                           \n",
    "string\\_         | S       |  定长字符窜类型（每字符一字节）。例如，为了生成长度为10的字符窜，使用 'S10'     \n",
    "unicode\\_        | f16 or g|  扩展精度浮点（字节书依赖平台）。同 `string_` 有相同的语义规范（例如：`U10` ）\n",
    "\n",
    "***Note***\n",
    "- `astype` converte strings to numeric form"
   ]
  },
  {
   "cell_type": "code",
   "execution_count": 7,
   "metadata": {
    "scrolled": true
   },
   "outputs": [
    {
     "data": {
      "text/plain": [
       "dtype('S4')"
      ]
     },
     "execution_count": 7,
     "metadata": {},
     "output_type": "execute_result"
    }
   ],
   "source": [
    "numeric_string = np.array(['1.25', '-9.6', '42'], dtype=np.string_)\n",
    "numeric_string.dtype"
   ]
  },
  {
   "cell_type": "code",
   "execution_count": 8,
   "metadata": {},
   "outputs": [
    {
     "data": {
      "text/plain": [
       "array(['1.25'],\n",
       "      dtype='<U4')"
      ]
     },
     "execution_count": 8,
     "metadata": {},
     "output_type": "execute_result"
    }
   ],
   "source": [
    "np.array(['1.25'])"
   ]
  },
  {
   "cell_type": "code",
   "execution_count": 12,
   "metadata": {},
   "outputs": [
    {
     "name": "stdout",
     "output_type": "stream",
     "text": [
      "int32\n",
      "float64\n"
     ]
    }
   ],
   "source": [
    "# astype example\n",
    "# 用 astype 吧一个数组的dtype转换或投射到另外的类型\n",
    "arr = np.array([1, 2, 3])\n",
    "print(arr.dtype)\n",
    "print(arr.astype(np.float64).dtype)"
   ]
  },
  {
   "cell_type": "markdown",
   "metadata": {},
   "source": [
    "### Operations between Arrays and Scalars"
   ]
  },
  {
   "cell_type": "markdown",
   "metadata": {},
   "source": [
    "### Basic Indexing and Slicing"
   ]
  },
  {
   "cell_type": "markdown",
   "metadata": {},
   "source": [
    "### Boolean Indexing"
   ]
  },
  {
   "cell_type": "markdown",
   "metadata": {},
   "source": [
    "### Fancy Indexing"
   ]
  },
  {
   "cell_type": "markdown",
   "metadata": {},
   "source": [
    "### Tranposing Arrays and Swapping Axes"
   ]
  },
  {
   "cell_type": "markdown",
   "metadata": {},
   "source": [
    "## Universal Functions: Fast Element-wise Array Functions\n",
    "## Data Processing Using Arrays\n",
    "## File Input and Output with Arrays\n",
    "## Linear Algebra\n",
    "## Random Number Generation\n",
    "## Example: Random Walks"
   ]
  },
  {
   "cell_type": "markdown",
   "metadata": {},
   "source": []
  },
  {
   "cell_type": "markdown",
   "metadata": {},
   "source": []
  },
  {
   "cell_type": "markdown",
   "metadata": {},
   "source": []
  },
  {
   "cell_type": "markdown",
   "metadata": {},
   "source": []
  },
  {
   "cell_type": "markdown",
   "metadata": {},
   "source": []
  },
  {
   "cell_type": "markdown",
   "metadata": {},
   "source": []
  },
  {
   "cell_type": "markdown",
   "metadata": {},
   "source": []
  },
  {
   "cell_type": "markdown",
   "metadata": {},
   "source": []
  },
  {
   "cell_type": "markdown",
   "metadata": {},
   "source": []
  },
  {
   "cell_type": "code",
   "execution_count": null,
   "metadata": {
    "collapsed": true
   },
   "outputs": [],
   "source": []
  }
 ],
 "metadata": {
  "kernelspec": {
   "display_name": "Python 3",
   "language": "python",
   "name": "python3"
  },
  "language_info": {
   "codemirror_mode": {
    "name": "ipython",
    "version": 3
   },
   "file_extension": ".py",
   "mimetype": "text/x-python",
   "name": "python",
   "nbconvert_exporter": "python",
   "pygments_lexer": "ipython3",
   "version": "3.6.2"
  }
 },
 "nbformat": 4,
 "nbformat_minor": 2
}
