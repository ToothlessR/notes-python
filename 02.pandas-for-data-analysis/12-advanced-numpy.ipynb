{
 "cells": [
  {
   "cell_type": "markdown",
   "metadata": {},
   "source": [
    "# Chap12. Advanced NumPy\n",
    "\n",
    "## ndarray Object Internals\n",
    "### NumPy dtype Hierarchy\n",
    "\n",
    "## Advanced Array Manipulation\n",
    "### Reshaping Arrays\n",
    "### C versus Fortan Order\n",
    "### Concatenating and Splitting Arrays\n",
    "### Repearting Elements: Tile and Repeat\n",
    "\n",
    "## Broadcasting\n",
    "### Broadcasting Over Other Axes\n",
    "### Setting Array Values by Broadcasting\n",
    "\n",
    "## Advanced ufunc Usage\n",
    "### ufunc Instance Methods\n",
    "### Custom ufuncs\n",
    "\n",
    "## Structured and Record Arrays\n",
    "### Nested dtypes and Multidimensional Fields\n",
    "### Why Use Structured Arrays?\n",
    "### Structured Array Manipulations: numpy.lib.rectunctions\n",
    "\n",
    "## More About Sorting\n",
    "### Indirect Sorts: argsort and lexsort\n",
    "### Alternate Sort Algorithms\n",
    "### numpy.searchsorted: Finding elements in a Sorted Array\n",
    "\n",
    "## Numpy Matrix Class\n",
    "\n",
    "## Advanced Array Input and Output\n",
    "### Memory-mapped Files\n",
    "### HDF5 and Other Array Storage Options\n",
    "\n",
    "## Performance Tips\n",
    "### The Importance of Contiguous Memory\n",
    "### Other Speed Options: Cython, f2py, C"
   ]
  }
 ],
 "metadata": {
  "kernelspec": {
   "display_name": "Python 3",
   "language": "python",
   "name": "python3"
  },
  "language_info": {
   "codemirror_mode": {
    "name": "ipython",
    "version": 3
   },
   "file_extension": ".py",
   "mimetype": "text/x-python",
   "name": "python",
   "nbconvert_exporter": "python",
   "pygments_lexer": "ipython3",
   "version": "3.6.3"
  }
 },
 "nbformat": 4,
 "nbformat_minor": 2
}
