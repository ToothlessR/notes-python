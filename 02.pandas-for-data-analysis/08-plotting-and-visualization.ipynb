{
 "cells": [
  {
   "cell_type": "markdown",
   "metadata": {},
   "source": [
    "# Chap8. Plotting and Visualization\n",
    "\n",
    "## A Brief matplotlib API Primer\n",
    "### Figures and Subplots\n",
    "### Colors, Markers, and Line Styles\n",
    "### Ticks, Labels, and Legends\n",
    "### Annotations and Drawing on a Subplot\n",
    "### Saving Plots to File\n",
    "### matplotlib Configuration\n",
    "\n",
    "## Plotting Functions in pandas\n",
    "### Line Plots\n",
    "### Bar Plots\n",
    "### Histograms and Density Plots\n",
    "### Scatter Plots\n",
    "\n",
    "## Plottingn Maps: Visualizing Haiti Earthquake Crisis Data\n",
    "\n",
    "## Python Visualiztion Tool Ecosystem\n",
    "### Chaco\n",
    "### mayavi\n",
    "### Other Packages\n",
    "### The Future of Visualization Tools?"
   ]
  }
 ],
 "metadata": {
  "kernelspec": {
   "display_name": "Python 3",
   "language": "python",
   "name": "python3"
  },
  "language_info": {
   "codemirror_mode": {
    "name": "ipython",
    "version": 3
   },
   "file_extension": ".py",
   "mimetype": "text/x-python",
   "name": "python",
   "nbconvert_exporter": "python",
   "pygments_lexer": "ipython3",
   "version": "3.6.3"
  }
 },
 "nbformat": 4,
 "nbformat_minor": 2
}
