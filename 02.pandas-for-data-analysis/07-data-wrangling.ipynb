{
 "cells": [
  {
   "cell_type": "markdown",
   "metadata": {},
   "source": [
    "# Chap7. Data Wrangling: Clean, Transform, Merge, Reshape\n",
    "\n",
    "## Combining and Merging Data Sets\n",
    "### Database-style DataFrame Merges\n",
    "### Merging on Index\n",
    "### Concatenating Along and Axis\n",
    "### Combining Data with Overlap\n",
    "\n",
    "## Reshaping and Pivoting\n",
    "### Reshaping with Hierarchical Indexing\n",
    "### Pivoting \"long\" to \"wide\" Format\n",
    "\n",
    "## Data Transforming\n",
    "### Removing Duplicates\n",
    "### Transforming Data Using a Function or Mapping\n",
    "### Replacing Values\n",
    "### Renaming Axis Indexes\n",
    "### Discretization and Binning\n",
    "### Detecting and Filtering Outliers\n",
    "### Permutation and Random Sampling\n",
    "### Computing Indicator/Dummy Variables\n",
    "\n",
    "## String Manipulation\n",
    "### String Object Methods\n",
    "### Regular Expressions\n",
    "### Vectorized String Functions in Pandas\n",
    "\n",
    "## Exmaple: USDA Food Database"
   ]
  }
 ],
 "metadata": {
  "kernelspec": {
   "display_name": "Python 3",
   "language": "python",
   "name": "python3"
  },
  "language_info": {
   "codemirror_mode": {
    "name": "ipython",
    "version": 3
   },
   "file_extension": ".py",
   "mimetype": "text/x-python",
   "name": "python",
   "nbconvert_exporter": "python",
   "pygments_lexer": "ipython3",
   "version": "3.6.3"
  }
 },
 "nbformat": 4,
 "nbformat_minor": 2
}
