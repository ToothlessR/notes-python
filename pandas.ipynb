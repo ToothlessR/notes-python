{
 "cells": [
  {
   "cell_type": "code",
   "execution_count": 1,
   "metadata": {
    "collapsed": true
   },
   "outputs": [],
   "source": [
    "# import libraries\n",
    "import pandas as pd\n",
    "from pandas import DataFrame, Series\n",
    "import numpy as np\n",
    "import datetime as dt\n",
    "\n",
    "pd.options.display.max_rows = 15"
   ]
  },
  {
   "cell_type": "markdown",
   "metadata": {},
   "source": [
    "# 1. Pandas的基本数据结构\n",
    "pandas最重要的数据结构是Series和DataFrame  \n",
    "Series可以理解为一维数组，和arrays或者lists的结构相似  \n",
    "DataFrame可以理解为二维数组，由一系列的Series(列)构成。每一个Series内的数据，理论为同一个DataType，而DataFrame为这些Series有一个共用的index来搜寻位置。在时间序列数据里，index一般为时间。"
   ]
  },
  {
   "cell_type": "markdown",
   "metadata": {},
   "source": [
    "## 1.1 Series\n",
    "Series包含一个与数组关联的数据标签，被叫做索引。如果没有给数据指定索引，会设定 0 到 N-1 的默认索引。\n",
    "### 建立\n",
    "- 通过list直接建立(可以附加index)\n",
    "- 通过dict建立，key默认为index。指定的index override keys。"
   ]
  },
  {
   "cell_type": "code",
   "execution_count": 3,
   "metadata": {
    "collapsed": true
   },
   "outputs": [],
   "source": [
    "# 通过list直接建立\n",
    "# 可以附加index\n",
    "s1 = Series([4, 7, -5, 3])\n",
    "s2 = Series([4, 7, -5, 3], index=['d', 'b', 'a', 'c'])"
   ]
  },
  {
   "cell_type": "code",
   "execution_count": 4,
   "metadata": {
    "collapsed": false
   },
   "outputs": [
    {
     "data": {
      "text/plain": [
       "California        NaN\n",
       "Ohio          35000.0\n",
       "Texas         71000.0\n",
       "Oregon        16000.0\n",
       "dtype: float64"
      ]
     },
     "execution_count": 4,
     "metadata": {},
     "output_type": "execute_result"
    }
   ],
   "source": [
    "# 通过dict建立, key默认为index\n",
    "# 如果指定了index, 则只保留overlap的部分，dict的key中没有的赋予NaN\n",
    "sdata = {'Ohio': 35000, 'Texas': 71000, 'Oregon': 16000, 'Utah': 5000}\n",
    "s3 = Series(sdata)\n",
    "states = ['California', 'Ohio', 'Texas', 'Oregon']\n",
    "s4 = Series(sdata, states)\n",
    "s4"
   ]
  },
  {
   "cell_type": "markdown",
   "metadata": {
    "collapsed": true
   },
   "source": [
    "### 关于索引\n",
    "- `series.index`\n",
    "- `series.values`，返回ndarray type\n",
    "- 对象本身和它的索引都有一个`name`属性\n",
    "- Series的索引可以通过赋值直接更改，但不能单个更改，只能全部更新；DataFrame亦然。"
   ]
  },
  {
   "cell_type": "code",
   "execution_count": 6,
   "metadata": {
    "collapsed": false
   },
   "outputs": [
    {
     "data": {
      "text/plain": [
       "state\n",
       "California        NaN\n",
       "Ohio          35000.0\n",
       "Texas         71000.0\n",
       "Oregon        16000.0\n",
       "Name: population, dtype: float64"
      ]
     },
     "execution_count": 6,
     "metadata": {},
     "output_type": "execute_result"
    }
   ],
   "source": [
    "# 对象本身和它的索引都有一个name属性\n",
    "s4.name = 'population'\n",
    "s4.index.name = 'state'\n",
    "s4"
   ]
  },
  {
   "cell_type": "markdown",
   "metadata": {},
   "source": [
    "### 定位\n",
    "- 通过位置 `series[0]`\n",
    "- 通过名称 `series['a']`，`series.a`"
   ]
  },
  {
   "cell_type": "markdown",
   "metadata": {},
   "source": [
    "## 1.2 DataFrame\n",
    "可以理解为一组共享同一个index的Series\n",
    "### 建立\n",
    "- 通过dict建立，key对应columns\n",
    "- 双层dict，外层key对应columns，内层key对应index\n",
    "- dict的values必须统一长度\n",
    "- index的键入必须和dict的长度一样"
   ]
  },
  {
   "cell_type": "code",
   "execution_count": 14,
   "metadata": {
    "collapsed": false
   },
   "outputs": [],
   "source": [
    "data = {'state': ['Ohio', 'Ohio', 'Ohio', 'Nevada', 'Nevada'],\n",
    "       'year': [2000, 2001, 2002, 2001, 2002],\n",
    "       'pop': [1.5, 1.7, 3.6, 2.4, 2.9]}\n",
    "df1 = DataFrame(data)"
   ]
  },
  {
   "cell_type": "code",
   "execution_count": 15,
   "metadata": {
    "collapsed": false
   },
   "outputs": [
    {
     "data": {
      "text/html": [
       "<div>\n",
       "<table border=\"1\" class=\"dataframe\">\n",
       "  <thead>\n",
       "    <tr style=\"text-align: right;\">\n",
       "      <th></th>\n",
       "      <th>Nevada</th>\n",
       "      <th>Ohio</th>\n",
       "    </tr>\n",
       "  </thead>\n",
       "  <tbody>\n",
       "    <tr>\n",
       "      <th>2000</th>\n",
       "      <td>NaN</td>\n",
       "      <td>1.5</td>\n",
       "    </tr>\n",
       "    <tr>\n",
       "      <th>2001</th>\n",
       "      <td>2.4</td>\n",
       "      <td>1.7</td>\n",
       "    </tr>\n",
       "    <tr>\n",
       "      <th>2002</th>\n",
       "      <td>2.9</td>\n",
       "      <td>3.6</td>\n",
       "    </tr>\n",
       "  </tbody>\n",
       "</table>\n",
       "</div>"
      ],
      "text/plain": [
       "      Nevada  Ohio\n",
       "2000     NaN   1.5\n",
       "2001     2.4   1.7\n",
       "2002     2.9   3.6"
      ]
     },
     "execution_count": 15,
     "metadata": {},
     "output_type": "execute_result"
    }
   ],
   "source": [
    "# 双层字典，外层key对应columns，内层key对应index\n",
    "pop = {'Nevada': {2001:2.4, 2002:2.9},\n",
    "      'Ohio': {2000:1.5, 2001:1.7, 2002:3.6}}\n",
    "df2 = DataFrame(pop)\n",
    "df2"
   ]
  },
  {
   "cell_type": "markdown",
   "metadata": {},
   "source": [
    "### 关于索引\n"
   ]
  },
  {
   "cell_type": "markdown",
   "metadata": {},
   "source": [
    "### 定位\n",
    "- 列\n",
    "    - `df['col_name']`\n",
    "    - `df.col_name`\n",
    "    - `df.ix[:, 'col_name']`\n",
    "    - `df.ix[:, col_num]`\n",
    "- 行\n",
    "    - `df.ix['index_name']`\n",
    "    - `df.ix[index_num]`\n",
    "    - `ix`形式可以理解为忽略了对列的引用\n",
    "- m行n列\n",
    "    - `df.ix`形式\n",
    "    - 层级形式`df['col_name']['row_name']`\n",
    "- 取出的都是reference，不能对其中的元素进行直接修改  \n",
    "> `b = df['year']`  \n",
    "> `b[0] = 1`这样的形式不可以"
   ]
  },
  {
   "cell_type": "markdown",
   "metadata": {},
   "source": [
    "### 赋值\n",
    "- 列的赋值`df['col_name'] = obj`  \n",
    "如果是数列的话必须长度一致。\n",
    "- 行的赋值`df.ix[index] = obj`  \n",
    "obj是Series形式，index对应到df中的columns"
   ]
  },
  {
   "cell_type": "markdown",
   "metadata": {},
   "source": [
    "### 删除\n",
    "- 列  \n",
    "    - `del df['col_name']`彻底删除\n",
    "    - `df.drop(cols,1)`只是创建一个新的备份\n",
    "- 行\n",
    "    - `df.drop(index_num/index_name`"
   ]
  },
  {
   "cell_type": "markdown",
   "metadata": {
    "collapsed": true
   },
   "source": [
    "## 1.3 索引\n",
    "索引是不可变的\n",
    "\n",
    "### 类型\n",
    "类型|pandas中的主要索引对象\n",
    "---|---\n",
    "Index|最通用的索引对象，使用Python对象的NumPy数组来表示坐标轴标签\n",
    "Int64Index|对整型值的特化索引\n",
    "MultiIndex|\"分层\"索引对象，表示单个轴的多层次的索引\n",
    "DatetimeIndex|存储纳秒时间戳(使用NumPy的datetime64 dtype来表示)\n",
    "PeriodIndex|对周期数据(时间间隔的)的特化索引\n",
    "\n",
    "每个索引都有许多关于集合逻辑的方法和属性，且能够解决它所包含的数据的常见问题。  \n",
    "\n",
    "### method and attribute\n",
    "function|索引的方法和属性\n",
    "---|---\n",
    "append|链接额外的索引对象，产生一个新的索引\n",
    "diff|计算索引的差集\n",
    "intersection|交集\n",
    "union|并集\n",
    "isin|得出一个布尔数表示每一个值是否在所传递的集合里\n",
    "delete|计算删除位置i的元素的索引\n",
    "drop|计算删除所传递的值后的索引\n",
    "insert|计算在位置i插入元素后的索引\n",
    "is_monotonie|返回True，如果每一个元素都比它前面的元素大或相等\n",
    "is_unique|返回True，如果索引没有重复的值\n",
    "\n",
    "### 重新索引  \n",
    "`reindex`需要注意的是，`reindex`并不对原df进行操作，而是生成了一个新的\n",
    "- 对值进行内插或填充 `ffill` or `bfill` or `fill_value`\n",
    "- 可以一次对行与列同时进行重新索引，但差值只在行进行\n",
    "- 使用带标签索引的`ix`可以把重新索引做的更简单"
   ]
  },
  {
   "cell_type": "code",
   "execution_count": 3,
   "metadata": {
    "collapsed": false
   },
   "outputs": [
    {
     "data": {
      "text/plain": [
       "a   -5.3\n",
       "b    7.2\n",
       "c    3.6\n",
       "c    3.6\n",
       "e    NaN\n",
       "dtype: float64"
      ]
     },
     "execution_count": 3,
     "metadata": {},
     "output_type": "execute_result"
    }
   ],
   "source": [
    "s1 = Series([4.5, 7.2, -5.3, 3.6], index=['d','b','a','c'])\n",
    "s2 = s1.reindex(['a','b','c','c','e'])\n",
    "s2"
   ]
  },
  {
   "cell_type": "code",
   "execution_count": 4,
   "metadata": {
    "collapsed": false
   },
   "outputs": [
    {
     "data": {
      "text/plain": [
       "0      blue\n",
       "1      blue\n",
       "2    purple\n",
       "3    purple\n",
       "4    yellow\n",
       "5    yellow\n",
       "dtype: object"
      ]
     },
     "execution_count": 4,
     "metadata": {},
     "output_type": "execute_result"
    }
   ],
   "source": [
    "s3 = Series(['blue','purple','yellow'], index=[0,2,4])\n",
    "s3.reindex(range(6), method='ffill')"
   ]
  },
  {
   "cell_type": "code",
   "execution_count": 5,
   "metadata": {
    "collapsed": false
   },
   "outputs": [
    {
     "data": {
      "text/html": [
       "<div>\n",
       "<table border=\"1\" class=\"dataframe\">\n",
       "  <thead>\n",
       "    <tr style=\"text-align: right;\">\n",
       "      <th></th>\n",
       "      <th>Texas</th>\n",
       "      <th>Utah</th>\n",
       "      <th>California</th>\n",
       "    </tr>\n",
       "  </thead>\n",
       "  <tbody>\n",
       "    <tr>\n",
       "      <th>a</th>\n",
       "      <td>1</td>\n",
       "      <td>NaN</td>\n",
       "      <td>2</td>\n",
       "    </tr>\n",
       "    <tr>\n",
       "      <th>c</th>\n",
       "      <td>4</td>\n",
       "      <td>NaN</td>\n",
       "      <td>5</td>\n",
       "    </tr>\n",
       "    <tr>\n",
       "      <th>d</th>\n",
       "      <td>7</td>\n",
       "      <td>NaN</td>\n",
       "      <td>8</td>\n",
       "    </tr>\n",
       "  </tbody>\n",
       "</table>\n",
       "</div>"
      ],
      "text/plain": [
       "<div>\n",
       "<table border=\"1\" class=\"dataframe\">\n",
       "  <thead>\n",
       "    <tr style=\"text-align: right;\">\n",
       "      <th></th>\n",
       "      <th>Texas</th>\n",
       "      <th>Utah</th>\n",
       "      <th>California</th>\n",
       "    </tr>\n",
       "  </thead>\n",
       "  <tbody>\n",
       "    <tr>\n",
       "      <th>a</th>\n",
       "      <td>1</td>\n",
       "      <td>NaN</td>\n",
       "      <td>2</td>\n",
       "    </tr>\n",
       "    <tr>\n",
       "      <th>c</th>\n",
       "      <td>4</td>\n",
       "      <td>NaN</td>\n",
       "      <td>5</td>\n",
       "    </tr>\n",
       "    <tr>\n",
       "      <th>d</th>\n",
       "      <td>7</td>\n",
       "      <td>NaN</td>\n",
       "      <td>8</td>\n",
       "    </tr>\n",
       "  </tbody>\n",
       "</table>\n",
       "</div>"
      ]
     },
     "execution_count": 5,
     "metadata": {},
     "output_type": "execute_result"
    }
   ],
   "source": [
    "# 列的重新索引\n",
    "df = DataFrame(np.arange(9).reshape((3,3)), index=['a','c','d'], columns=['Ohio','Texas','California'])\n",
    "states = ['Texas', 'Utah', 'California']\n",
    "df.reindex(columns=states)"
   ]
  },
  {
   "cell_type": "code",
   "execution_count": 6,
   "metadata": {
    "collapsed": false
   },
   "outputs": [
    {
     "data": {
      "text/html": [
       "<div>\n",
       "<table border=\"1\" class=\"dataframe\">\n",
       "  <thead>\n",
       "    <tr style=\"text-align: right;\">\n",
       "      <th></th>\n",
       "      <th>Texas</th>\n",
       "      <th>Utah</th>\n",
       "      <th>California</th>\n",
       "    </tr>\n",
       "  </thead>\n",
       "  <tbody>\n",
       "    <tr>\n",
       "      <th>a</th>\n",
       "      <td>1</td>\n",
       "      <td>NaN</td>\n",
       "      <td>2</td>\n",
       "    </tr>\n",
       "    <tr>\n",
       "      <th>b</th>\n",
       "      <td>1</td>\n",
       "      <td>NaN</td>\n",
       "      <td>2</td>\n",
       "    </tr>\n",
       "    <tr>\n",
       "      <th>c</th>\n",
       "      <td>4</td>\n",
       "      <td>NaN</td>\n",
       "      <td>5</td>\n",
       "    </tr>\n",
       "    <tr>\n",
       "      <th>d</th>\n",
       "      <td>7</td>\n",
       "      <td>NaN</td>\n",
       "      <td>8</td>\n",
       "    </tr>\n",
       "  </tbody>\n",
       "</table>\n",
       "</div>"
      ],
      "text/plain": [
       "<div>\n",
       "<table border=\"1\" class=\"dataframe\">\n",
       "  <thead>\n",
       "    <tr style=\"text-align: right;\">\n",
       "      <th></th>\n",
       "      <th>Texas</th>\n",
       "      <th>Utah</th>\n",
       "      <th>California</th>\n",
       "    </tr>\n",
       "  </thead>\n",
       "  <tbody>\n",
       "    <tr>\n",
       "      <th>a</th>\n",
       "      <td>1</td>\n",
       "      <td>NaN</td>\n",
       "      <td>2</td>\n",
       "    </tr>\n",
       "    <tr>\n",
       "      <th>b</th>\n",
       "      <td>1</td>\n",
       "      <td>NaN</td>\n",
       "      <td>2</td>\n",
       "    </tr>\n",
       "    <tr>\n",
       "      <th>c</th>\n",
       "      <td>4</td>\n",
       "      <td>NaN</td>\n",
       "      <td>5</td>\n",
       "    </tr>\n",
       "    <tr>\n",
       "      <th>d</th>\n",
       "      <td>7</td>\n",
       "      <td>NaN</td>\n",
       "      <td>8</td>\n",
       "    </tr>\n",
       "  </tbody>\n",
       "</table>\n",
       "</div>"
      ]
     },
     "execution_count": 6,
     "metadata": {},
     "output_type": "execute_result"
    }
   ],
   "source": [
    "# 可以一次对行与列同时进行重新索引，但差值只在行进行\n",
    "df.reindex(index=['a','b','c','d'], method='ffill', columns=states)"
   ]
  },
  {
   "cell_type": "code",
   "execution_count": 7,
   "metadata": {
    "collapsed": false
   },
   "outputs": [
    {
     "data": {
      "text/html": [
       "<div>\n",
       "<table border=\"1\" class=\"dataframe\">\n",
       "  <thead>\n",
       "    <tr style=\"text-align: right;\">\n",
       "      <th></th>\n",
       "      <th>Texas</th>\n",
       "      <th>Utah</th>\n",
       "      <th>California</th>\n",
       "    </tr>\n",
       "  </thead>\n",
       "  <tbody>\n",
       "    <tr>\n",
       "      <th>a</th>\n",
       "      <td>1.0</td>\n",
       "      <td>NaN</td>\n",
       "      <td>2.0</td>\n",
       "    </tr>\n",
       "    <tr>\n",
       "      <th>b</th>\n",
       "      <td>NaN</td>\n",
       "      <td>NaN</td>\n",
       "      <td>NaN</td>\n",
       "    </tr>\n",
       "    <tr>\n",
       "      <th>c</th>\n",
       "      <td>4.0</td>\n",
       "      <td>NaN</td>\n",
       "      <td>5.0</td>\n",
       "    </tr>\n",
       "    <tr>\n",
       "      <th>d</th>\n",
       "      <td>7.0</td>\n",
       "      <td>NaN</td>\n",
       "      <td>8.0</td>\n",
       "    </tr>\n",
       "  </tbody>\n",
       "</table>\n",
       "</div>"
      ],
      "text/plain": [
       "<div>\n",
       "<table border=\"1\" class=\"dataframe\">\n",
       "  <thead>\n",
       "    <tr style=\"text-align: right;\">\n",
       "      <th></th>\n",
       "      <th>Texas</th>\n",
       "      <th>Utah</th>\n",
       "      <th>California</th>\n",
       "    </tr>\n",
       "  </thead>\n",
       "  <tbody>\n",
       "    <tr>\n",
       "      <th>a</th>\n",
       "      <td>1.0</td>\n",
       "      <td>NaN</td>\n",
       "      <td>2.0</td>\n",
       "    </tr>\n",
       "    <tr>\n",
       "      <th>b</th>\n",
       "      <td>NaN</td>\n",
       "      <td>NaN</td>\n",
       "      <td>NaN</td>\n",
       "    </tr>\n",
       "    <tr>\n",
       "      <th>c</th>\n",
       "      <td>4.0</td>\n",
       "      <td>NaN</td>\n",
       "      <td>5.0</td>\n",
       "    </tr>\n",
       "    <tr>\n",
       "      <th>d</th>\n",
       "      <td>7.0</td>\n",
       "      <td>NaN</td>\n",
       "      <td>8.0</td>\n",
       "    </tr>\n",
       "  </tbody>\n",
       "</table>\n",
       "</div>"
      ]
     },
     "execution_count": 7,
     "metadata": {},
     "output_type": "execute_result"
    }
   ],
   "source": [
    "# 使用带标签锁芯的'ix'可以把重新索引做的更简单\n",
    "df.ix[['a','b','c','d'], states]"
   ]
  },
  {
   "cell_type": "code",
   "execution_count": 8,
   "metadata": {
    "collapsed": true
   },
   "outputs": [],
   "source": [
    "# missing"
   ]
  },
  {
   "cell_type": "markdown",
   "metadata": {},
   "source": [
    "## 1.4 Time Series Index\n",
    "(to be done)"
   ]
  },
  {
   "cell_type": "code",
   "execution_count": 3,
   "metadata": {
    "collapsed": false
   },
   "outputs": [
    {
     "data": {
      "text/plain": [
       "DatetimeIndex(['2013-01-01', '2013-01-02', '2013-01-03', '2013-01-04',\n",
       "               '2013-01-05', '2013-01-06'],\n",
       "              dtype='datetime64[ns]', freq='D')"
      ]
     },
     "execution_count": 3,
     "metadata": {},
     "output_type": "execute_result"
    }
   ],
   "source": [
    "dates = pd.date_range('20130101', periods=6)\n",
    "dates"
   ]
  },
  {
   "cell_type": "code",
   "execution_count": 4,
   "metadata": {
    "collapsed": false
   },
   "outputs": [
    {
     "data": {
      "text/plain": [
       "Period('2004Q4', 'Q-NOV')"
      ]
     },
     "execution_count": 4,
     "metadata": {},
     "output_type": "execute_result"
    }
   ],
   "source": [
    "prng = pd.period_range('1991Q1', '2004Q4', freq='Q-NOV')\n",
    "ts = pd.Series(np.random.randn(len(prng)), prng)\n",
    "ts.index[-1]\n",
    "# type: pandas.peropd.Period\n",
    "# attribute: year, month, day, no date"
   ]
  },
  {
   "cell_type": "code",
   "execution_count": 5,
   "metadata": {
    "collapsed": false
   },
   "outputs": [
    {
     "data": {
      "text/plain": [
       "1991-03-01 09:00    0.803729\n",
       "1991-06-01 09:00   -0.549952\n",
       "1991-09-01 09:00   -2.245404\n",
       "1991-12-01 09:00    0.869041\n",
       "1992-03-01 09:00   -0.508702\n",
       "1992-06-01 09:00   -0.111956\n",
       "1992-09-01 09:00   -1.075721\n",
       "                      ...   \n",
       "2003-06-01 09:00   -2.039267\n",
       "2003-09-01 09:00   -0.747174\n",
       "2003-12-01 09:00   -0.699560\n",
       "2004-03-01 09:00   -1.472039\n",
       "2004-06-01 09:00    0.436009\n",
       "2004-09-01 09:00    1.800086\n",
       "2004-12-01 09:00   -0.035231\n",
       "Freq: H, dtype: float64"
      ]
     },
     "execution_count": 5,
     "metadata": {},
     "output_type": "execute_result"
    }
   ],
   "source": [
    "ts.index = (prng.asfreq('M','e')+1).asfreq('H','s')+9\n",
    "ts"
   ]
  },
  {
   "cell_type": "markdown",
   "metadata": {
    "collapsed": true
   },
   "source": [
    "# 2. 一些数组操作\n"
   ]
  },
  {
   "cell_type": "code",
   "execution_count": 2,
   "metadata": {
    "collapsed": true
   },
   "outputs": [],
   "source": [
    "dates = pd.date_range('20130101',periods=6)\n",
    "df = pd.DataFrame(np.random.randn(6,4), index=dates, columns=list('ABCD'))"
   ]
  },
  {
   "cell_type": "code",
   "execution_count": 3,
   "metadata": {
    "collapsed": false
   },
   "outputs": [
    {
     "data": {
      "text/html": [
       "<div>\n",
       "<table border=\"1\" class=\"dataframe\">\n",
       "  <thead>\n",
       "    <tr style=\"text-align: right;\">\n",
       "      <th></th>\n",
       "      <th>2013-01-01 00:00:00</th>\n",
       "      <th>2013-01-02 00:00:00</th>\n",
       "      <th>2013-01-03 00:00:00</th>\n",
       "      <th>2013-01-04 00:00:00</th>\n",
       "      <th>2013-01-05 00:00:00</th>\n",
       "      <th>2013-01-06 00:00:00</th>\n",
       "    </tr>\n",
       "  </thead>\n",
       "  <tbody>\n",
       "    <tr>\n",
       "      <th>A</th>\n",
       "      <td>0.684346</td>\n",
       "      <td>-0.442428</td>\n",
       "      <td>-0.406470</td>\n",
       "      <td>-1.011514</td>\n",
       "      <td>1.154496</td>\n",
       "      <td>-0.568598</td>\n",
       "    </tr>\n",
       "    <tr>\n",
       "      <th>B</th>\n",
       "      <td>-1.045700</td>\n",
       "      <td>-0.118350</td>\n",
       "      <td>2.594857</td>\n",
       "      <td>1.318265</td>\n",
       "      <td>-1.158101</td>\n",
       "      <td>0.528244</td>\n",
       "    </tr>\n",
       "    <tr>\n",
       "      <th>C</th>\n",
       "      <td>1.981283</td>\n",
       "      <td>0.856943</td>\n",
       "      <td>-1.069507</td>\n",
       "      <td>-0.640984</td>\n",
       "      <td>1.951000</td>\n",
       "      <td>-0.391605</td>\n",
       "    </tr>\n",
       "    <tr>\n",
       "      <th>D</th>\n",
       "      <td>-1.161247</td>\n",
       "      <td>0.003684</td>\n",
       "      <td>1.671639</td>\n",
       "      <td>-0.745967</td>\n",
       "      <td>-0.461955</td>\n",
       "      <td>0.638851</td>\n",
       "    </tr>\n",
       "  </tbody>\n",
       "</table>\n",
       "</div>"
      ],
      "text/plain": [
       "   2013-01-01  2013-01-02  2013-01-03  2013-01-04  2013-01-05  2013-01-06\n",
       "A    0.684346   -0.442428   -0.406470   -1.011514    1.154496   -0.568598\n",
       "B   -1.045700   -0.118350    2.594857    1.318265   -1.158101    0.528244\n",
       "C    1.981283    0.856943   -1.069507   -0.640984    1.951000   -0.391605\n",
       "D   -1.161247    0.003684    1.671639   -0.745967   -0.461955    0.638851"
      ]
     },
     "execution_count": 3,
     "metadata": {},
     "output_type": "execute_result"
    }
   ],
   "source": [
    "# Transpose\n",
    "df.T"
   ]
  },
  {
   "cell_type": "code",
   "execution_count": 4,
   "metadata": {
    "collapsed": false
   },
   "outputs": [
    {
     "data": {
      "text/html": [
       "<div>\n",
       "<table border=\"1\" class=\"dataframe\">\n",
       "  <thead>\n",
       "    <tr style=\"text-align: right;\">\n",
       "      <th></th>\n",
       "      <th>D</th>\n",
       "      <th>C</th>\n",
       "      <th>B</th>\n",
       "      <th>A</th>\n",
       "    </tr>\n",
       "  </thead>\n",
       "  <tbody>\n",
       "    <tr>\n",
       "      <th>2013-01-01</th>\n",
       "      <td>-1.161247</td>\n",
       "      <td>1.981283</td>\n",
       "      <td>-1.045700</td>\n",
       "      <td>0.684346</td>\n",
       "    </tr>\n",
       "    <tr>\n",
       "      <th>2013-01-02</th>\n",
       "      <td>0.003684</td>\n",
       "      <td>0.856943</td>\n",
       "      <td>-0.118350</td>\n",
       "      <td>-0.442428</td>\n",
       "    </tr>\n",
       "    <tr>\n",
       "      <th>2013-01-03</th>\n",
       "      <td>1.671639</td>\n",
       "      <td>-1.069507</td>\n",
       "      <td>2.594857</td>\n",
       "      <td>-0.406470</td>\n",
       "    </tr>\n",
       "    <tr>\n",
       "      <th>2013-01-04</th>\n",
       "      <td>-0.745967</td>\n",
       "      <td>-0.640984</td>\n",
       "      <td>1.318265</td>\n",
       "      <td>-1.011514</td>\n",
       "    </tr>\n",
       "    <tr>\n",
       "      <th>2013-01-05</th>\n",
       "      <td>-0.461955</td>\n",
       "      <td>1.951000</td>\n",
       "      <td>-1.158101</td>\n",
       "      <td>1.154496</td>\n",
       "    </tr>\n",
       "    <tr>\n",
       "      <th>2013-01-06</th>\n",
       "      <td>0.638851</td>\n",
       "      <td>-0.391605</td>\n",
       "      <td>0.528244</td>\n",
       "      <td>-0.568598</td>\n",
       "    </tr>\n",
       "  </tbody>\n",
       "</table>\n",
       "</div>"
      ],
      "text/plain": [
       "                   D         C         B         A\n",
       "2013-01-01 -1.161247  1.981283 -1.045700  0.684346\n",
       "2013-01-02  0.003684  0.856943 -0.118350 -0.442428\n",
       "2013-01-03  1.671639 -1.069507  2.594857 -0.406470\n",
       "2013-01-04 -0.745967 -0.640984  1.318265 -1.011514\n",
       "2013-01-05 -0.461955  1.951000 -1.158101  1.154496\n",
       "2013-01-06  0.638851 -0.391605  0.528244 -0.568598"
      ]
     },
     "execution_count": 4,
     "metadata": {},
     "output_type": "execute_result"
    }
   ],
   "source": [
    "# Sort by an axis\n",
    "df.sort_index(axis=1, ascending=False)"
   ]
  },
  {
   "cell_type": "code",
   "execution_count": 5,
   "metadata": {
    "collapsed": false
   },
   "outputs": [
    {
     "data": {
      "text/html": [
       "<div>\n",
       "<table border=\"1\" class=\"dataframe\">\n",
       "  <thead>\n",
       "    <tr style=\"text-align: right;\">\n",
       "      <th></th>\n",
       "      <th>A</th>\n",
       "      <th>B</th>\n",
       "      <th>C</th>\n",
       "      <th>D</th>\n",
       "    </tr>\n",
       "  </thead>\n",
       "  <tbody>\n",
       "    <tr>\n",
       "      <th>2013-01-06</th>\n",
       "      <td>-0.568598</td>\n",
       "      <td>0.528244</td>\n",
       "      <td>-0.391605</td>\n",
       "      <td>0.638851</td>\n",
       "    </tr>\n",
       "    <tr>\n",
       "      <th>2013-01-05</th>\n",
       "      <td>1.154496</td>\n",
       "      <td>-1.158101</td>\n",
       "      <td>1.951000</td>\n",
       "      <td>-0.461955</td>\n",
       "    </tr>\n",
       "    <tr>\n",
       "      <th>2013-01-04</th>\n",
       "      <td>-1.011514</td>\n",
       "      <td>1.318265</td>\n",
       "      <td>-0.640984</td>\n",
       "      <td>-0.745967</td>\n",
       "    </tr>\n",
       "    <tr>\n",
       "      <th>2013-01-03</th>\n",
       "      <td>-0.406470</td>\n",
       "      <td>2.594857</td>\n",
       "      <td>-1.069507</td>\n",
       "      <td>1.671639</td>\n",
       "    </tr>\n",
       "    <tr>\n",
       "      <th>2013-01-02</th>\n",
       "      <td>-0.442428</td>\n",
       "      <td>-0.118350</td>\n",
       "      <td>0.856943</td>\n",
       "      <td>0.003684</td>\n",
       "    </tr>\n",
       "    <tr>\n",
       "      <th>2013-01-01</th>\n",
       "      <td>0.684346</td>\n",
       "      <td>-1.045700</td>\n",
       "      <td>1.981283</td>\n",
       "      <td>-1.161247</td>\n",
       "    </tr>\n",
       "  </tbody>\n",
       "</table>\n",
       "</div>"
      ],
      "text/plain": [
       "                   A         B         C         D\n",
       "2013-01-06 -0.568598  0.528244 -0.391605  0.638851\n",
       "2013-01-05  1.154496 -1.158101  1.951000 -0.461955\n",
       "2013-01-04 -1.011514  1.318265 -0.640984 -0.745967\n",
       "2013-01-03 -0.406470  2.594857 -1.069507  1.671639\n",
       "2013-01-02 -0.442428 -0.118350  0.856943  0.003684\n",
       "2013-01-01  0.684346 -1.045700  1.981283 -1.161247"
      ]
     },
     "execution_count": 5,
     "metadata": {},
     "output_type": "execute_result"
    }
   ],
   "source": [
    "df.sort_index(axis=0, ascending=False)"
   ]
  },
  {
   "cell_type": "code",
   "execution_count": 7,
   "metadata": {
    "collapsed": false
   },
   "outputs": [
    {
     "data": {
      "text/html": [
       "<div>\n",
       "<table border=\"1\" class=\"dataframe\">\n",
       "  <thead>\n",
       "    <tr style=\"text-align: right;\">\n",
       "      <th></th>\n",
       "      <th>A</th>\n",
       "      <th>B</th>\n",
       "      <th>C</th>\n",
       "      <th>D</th>\n",
       "    </tr>\n",
       "  </thead>\n",
       "  <tbody>\n",
       "    <tr>\n",
       "      <th>2013-01-05</th>\n",
       "      <td>1.154496</td>\n",
       "      <td>-1.158101</td>\n",
       "      <td>1.951000</td>\n",
       "      <td>-0.461955</td>\n",
       "    </tr>\n",
       "    <tr>\n",
       "      <th>2013-01-01</th>\n",
       "      <td>0.684346</td>\n",
       "      <td>-1.045700</td>\n",
       "      <td>1.981283</td>\n",
       "      <td>-1.161247</td>\n",
       "    </tr>\n",
       "    <tr>\n",
       "      <th>2013-01-02</th>\n",
       "      <td>-0.442428</td>\n",
       "      <td>-0.118350</td>\n",
       "      <td>0.856943</td>\n",
       "      <td>0.003684</td>\n",
       "    </tr>\n",
       "    <tr>\n",
       "      <th>2013-01-06</th>\n",
       "      <td>-0.568598</td>\n",
       "      <td>0.528244</td>\n",
       "      <td>-0.391605</td>\n",
       "      <td>0.638851</td>\n",
       "    </tr>\n",
       "    <tr>\n",
       "      <th>2013-01-04</th>\n",
       "      <td>-1.011514</td>\n",
       "      <td>1.318265</td>\n",
       "      <td>-0.640984</td>\n",
       "      <td>-0.745967</td>\n",
       "    </tr>\n",
       "    <tr>\n",
       "      <th>2013-01-03</th>\n",
       "      <td>-0.406470</td>\n",
       "      <td>2.594857</td>\n",
       "      <td>-1.069507</td>\n",
       "      <td>1.671639</td>\n",
       "    </tr>\n",
       "  </tbody>\n",
       "</table>\n",
       "</div>"
      ],
      "text/plain": [
       "                   A         B         C         D\n",
       "2013-01-05  1.154496 -1.158101  1.951000 -0.461955\n",
       "2013-01-01  0.684346 -1.045700  1.981283 -1.161247\n",
       "2013-01-02 -0.442428 -0.118350  0.856943  0.003684\n",
       "2013-01-06 -0.568598  0.528244 -0.391605  0.638851\n",
       "2013-01-04 -1.011514  1.318265 -0.640984 -0.745967\n",
       "2013-01-03 -0.406470  2.594857 -1.069507  1.671639"
      ]
     },
     "execution_count": 7,
     "metadata": {},
     "output_type": "execute_result"
    }
   ],
   "source": [
    "# Sort by values\n",
    "df.sort_values(by='B')"
   ]
  },
  {
   "cell_type": "code",
   "execution_count": 10,
   "metadata": {
    "collapsed": true
   },
   "outputs": [],
   "source": [
    "%magic"
   ]
  },
  {
   "cell_type": "code",
   "execution_count": null,
   "metadata": {
    "collapsed": true
   },
   "outputs": [],
   "source": []
  }
 ],
 "metadata": {
  "kernelspec": {
   "display_name": "Python 3",
   "language": "python",
   "name": "python3"
  },
  "language_info": {
   "codemirror_mode": {
    "name": "ipython",
    "version": 3
   },
   "file_extension": ".py",
   "mimetype": "text/x-python",
   "name": "python",
   "nbconvert_exporter": "python",
   "pygments_lexer": "ipython3",
   "version": "3.6.0"
  }
 },
 "nbformat": 4,
 "nbformat_minor": 0
}
